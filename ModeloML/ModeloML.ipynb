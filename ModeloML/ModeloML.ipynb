{
 "cells": [
  {
   "cell_type": "code",
   "execution_count": 37,
   "metadata": {},
   "outputs": [],
   "source": [
    "import pandas as pd\n",
    "from sklearn.feature_extraction.text import CountVectorizer\n",
    "from sklearn.metrics.pairwise import cosine_similarity\n",
    "import joblib \n",
    "import gzip"
   ]
  },
  {
   "cell_type": "code",
   "execution_count": 38,
   "metadata": {},
   "outputs": [],
   "source": [
    "Modelo1 = pd.read_csv('./EDA/Data-EDA/steam_games_EDA.csv.gz',compression='gzip')"
   ]
  },
  {
   "cell_type": "code",
   "execution_count": 39,
   "metadata": {},
   "outputs": [
    {
     "data": {
      "text/html": [
       "<div>\n",
       "<style scoped>\n",
       "    .dataframe tbody tr th:only-of-type {\n",
       "        vertical-align: middle;\n",
       "    }\n",
       "\n",
       "    .dataframe tbody tr th {\n",
       "        vertical-align: top;\n",
       "    }\n",
       "\n",
       "    .dataframe thead th {\n",
       "        text-align: right;\n",
       "    }\n",
       "</style>\n",
       "<table border=\"1\" class=\"dataframe\">\n",
       "  <thead>\n",
       "    <tr style=\"text-align: right;\">\n",
       "      <th></th>\n",
       "      <th>genres</th>\n",
       "      <th>app_name</th>\n",
       "      <th>specs</th>\n",
       "      <th>price</th>\n",
       "      <th>id</th>\n",
       "      <th>developer</th>\n",
       "      <th>año</th>\n",
       "    </tr>\n",
       "  </thead>\n",
       "  <tbody>\n",
       "    <tr>\n",
       "      <th>0</th>\n",
       "      <td>Strategy</td>\n",
       "      <td>Lost summoner kitty</td>\n",
       "      <td>Single-player</td>\n",
       "      <td>4.99</td>\n",
       "      <td>761140.0</td>\n",
       "      <td>Kotoshiro</td>\n",
       "      <td>2018</td>\n",
       "    </tr>\n",
       "    <tr>\n",
       "      <th>1</th>\n",
       "      <td>Action</td>\n",
       "      <td>Lost summoner kitty</td>\n",
       "      <td>Single-player</td>\n",
       "      <td>4.99</td>\n",
       "      <td>761140.0</td>\n",
       "      <td>Kotoshiro</td>\n",
       "      <td>2018</td>\n",
       "    </tr>\n",
       "    <tr>\n",
       "      <th>2</th>\n",
       "      <td>Indie</td>\n",
       "      <td>Lost summoner kitty</td>\n",
       "      <td>Single-player</td>\n",
       "      <td>4.99</td>\n",
       "      <td>761140.0</td>\n",
       "      <td>Kotoshiro</td>\n",
       "      <td>2018</td>\n",
       "    </tr>\n",
       "    <tr>\n",
       "      <th>3</th>\n",
       "      <td>Casual</td>\n",
       "      <td>Lost summoner kitty</td>\n",
       "      <td>Single-player</td>\n",
       "      <td>4.99</td>\n",
       "      <td>761140.0</td>\n",
       "      <td>Kotoshiro</td>\n",
       "      <td>2018</td>\n",
       "    </tr>\n",
       "    <tr>\n",
       "      <th>4</th>\n",
       "      <td>Simulation</td>\n",
       "      <td>Lost summoner kitty</td>\n",
       "      <td>Single-player</td>\n",
       "      <td>4.99</td>\n",
       "      <td>761140.0</td>\n",
       "      <td>Kotoshiro</td>\n",
       "      <td>2018</td>\n",
       "    </tr>\n",
       "    <tr>\n",
       "      <th>...</th>\n",
       "      <td>...</td>\n",
       "      <td>...</td>\n",
       "      <td>...</td>\n",
       "      <td>...</td>\n",
       "      <td>...</td>\n",
       "      <td>...</td>\n",
       "      <td>...</td>\n",
       "    </tr>\n",
       "    <tr>\n",
       "      <th>784882</th>\n",
       "      <td>VR</td>\n",
       "      <td>Maze run vr</td>\n",
       "      <td>HTC Vive</td>\n",
       "      <td>4.99</td>\n",
       "      <td>681550.0</td>\n",
       "      <td>Otros</td>\n",
       "      <td>2016</td>\n",
       "    </tr>\n",
       "    <tr>\n",
       "      <th>784883</th>\n",
       "      <td>VR</td>\n",
       "      <td>Maze run vr</td>\n",
       "      <td>Oculus Rift</td>\n",
       "      <td>4.99</td>\n",
       "      <td>681550.0</td>\n",
       "      <td>Otros</td>\n",
       "      <td>2016</td>\n",
       "    </tr>\n",
       "    <tr>\n",
       "      <th>784884</th>\n",
       "      <td>VR</td>\n",
       "      <td>Maze run vr</td>\n",
       "      <td>Tracked Motion Controllers</td>\n",
       "      <td>4.99</td>\n",
       "      <td>681550.0</td>\n",
       "      <td>Otros</td>\n",
       "      <td>2016</td>\n",
       "    </tr>\n",
       "    <tr>\n",
       "      <th>784885</th>\n",
       "      <td>VR</td>\n",
       "      <td>Maze run vr</td>\n",
       "      <td>Standing</td>\n",
       "      <td>4.99</td>\n",
       "      <td>681550.0</td>\n",
       "      <td>Otros</td>\n",
       "      <td>2016</td>\n",
       "    </tr>\n",
       "    <tr>\n",
       "      <th>784886</th>\n",
       "      <td>VR</td>\n",
       "      <td>Maze run vr</td>\n",
       "      <td>Room-Scale</td>\n",
       "      <td>4.99</td>\n",
       "      <td>681550.0</td>\n",
       "      <td>Otros</td>\n",
       "      <td>2016</td>\n",
       "    </tr>\n",
       "  </tbody>\n",
       "</table>\n",
       "<p>784887 rows × 7 columns</p>\n",
       "</div>"
      ],
      "text/plain": [
       "            genres             app_name                       specs  price  \\\n",
       "0         Strategy  Lost summoner kitty               Single-player   4.99   \n",
       "1           Action  Lost summoner kitty               Single-player   4.99   \n",
       "2            Indie  Lost summoner kitty               Single-player   4.99   \n",
       "3           Casual  Lost summoner kitty               Single-player   4.99   \n",
       "4       Simulation  Lost summoner kitty               Single-player   4.99   \n",
       "...            ...                  ...                         ...    ...   \n",
       "784882          VR          Maze run vr                    HTC Vive   4.99   \n",
       "784883          VR          Maze run vr                 Oculus Rift   4.99   \n",
       "784884          VR          Maze run vr  Tracked Motion Controllers   4.99   \n",
       "784885          VR          Maze run vr                    Standing   4.99   \n",
       "784886          VR          Maze run vr                  Room-Scale   4.99   \n",
       "\n",
       "              id  developer   año  \n",
       "0       761140.0  Kotoshiro  2018  \n",
       "1       761140.0  Kotoshiro  2018  \n",
       "2       761140.0  Kotoshiro  2018  \n",
       "3       761140.0  Kotoshiro  2018  \n",
       "4       761140.0  Kotoshiro  2018  \n",
       "...          ...        ...   ...  \n",
       "784882  681550.0      Otros  2016  \n",
       "784883  681550.0      Otros  2016  \n",
       "784884  681550.0      Otros  2016  \n",
       "784885  681550.0      Otros  2016  \n",
       "784886  681550.0      Otros  2016  \n",
       "\n",
       "[784887 rows x 7 columns]"
      ]
     },
     "execution_count": 39,
     "metadata": {},
     "output_type": "execute_result"
    }
   ],
   "source": [
    "Modelo1"
   ]
  },
  {
   "cell_type": "code",
   "execution_count": 40,
   "metadata": {},
   "outputs": [],
   "source": [
    "# Selección de columnas relevantes\n",
    "Modelo1 = Modelo1[['id', 'app_name', 'genres', 'developer', 'specs']]"
   ]
  },
  {
   "cell_type": "code",
   "execution_count": 41,
   "metadata": {},
   "outputs": [
    {
     "name": "stderr",
     "output_type": "stream",
     "text": [
      "C:\\Users\\belen\\AppData\\Local\\Temp\\ipykernel_12800\\325279200.py:2: SettingWithCopyWarning: \n",
      "A value is trying to be set on a copy of a slice from a DataFrame.\n",
      "Try using .loc[row_indexer,col_indexer] = value instead\n",
      "\n",
      "See the caveats in the documentation: https://pandas.pydata.org/pandas-docs/stable/user_guide/indexing.html#returning-a-view-versus-a-copy\n",
      "  Modelo1['combined_features'] = Modelo1['genres'] + ' ' + Modelo1['developer'] + ' ' + Modelo1['specs']\n"
     ]
    }
   ],
   "source": [
    "# Limpieza y preprocesamiento de texto\n",
    "Modelo1['combined_features'] = Modelo1['genres'] + ' ' + Modelo1['developer'] + ' ' + Modelo1['specs']"
   ]
  },
  {
   "cell_type": "code",
   "execution_count": 42,
   "metadata": {},
   "outputs": [
    {
     "data": {
      "text/plain": [
       "(784887, 6)"
      ]
     },
     "execution_count": 42,
     "metadata": {},
     "output_type": "execute_result"
    }
   ],
   "source": [
    "Modelo1.shape"
   ]
  },
  {
   "cell_type": "code",
   "execution_count": 43,
   "metadata": {},
   "outputs": [
    {
     "data": {
      "text/plain": [
       "id                     0\n",
       "app_name               0\n",
       "genres                 0\n",
       "developer            209\n",
       "specs                  0\n",
       "combined_features    209\n",
       "dtype: int64"
      ]
     },
     "execution_count": 43,
     "metadata": {},
     "output_type": "execute_result"
    }
   ],
   "source": [
    "Modelo1.isna().sum()"
   ]
  },
  {
   "cell_type": "code",
   "execution_count": 44,
   "metadata": {},
   "outputs": [],
   "source": [
    "Modelo1=Modelo1.dropna()"
   ]
  },
  {
   "cell_type": "markdown",
   "metadata": {},
   "source": [
    "Se agrupa la columna 'id'"
   ]
  },
  {
   "cell_type": "code",
   "execution_count": 45,
   "metadata": {},
   "outputs": [],
   "source": [
    "Modelo1 = Modelo1.groupby('id').first().reset_index()"
   ]
  },
  {
   "cell_type": "markdown",
   "metadata": {},
   "source": [
    "Se guardan los 'id' distintos a 0"
   ]
  },
  {
   "cell_type": "code",
   "execution_count": 46,
   "metadata": {},
   "outputs": [],
   "source": [
    "Modelo1 = Modelo1[Modelo1['id']!=0]"
   ]
  },
  {
   "cell_type": "code",
   "execution_count": 47,
   "metadata": {},
   "outputs": [
    {
     "data": {
      "text/plain": [
       "31275"
      ]
     },
     "execution_count": 47,
     "metadata": {},
     "output_type": "execute_result"
    }
   ],
   "source": [
    "Modelo1['app_name'].nunique()"
   ]
  },
  {
   "cell_type": "markdown",
   "metadata": {},
   "source": [
    "Nos quedamos con una muestra de 3500 filas"
   ]
  },
  {
   "cell_type": "code",
   "execution_count": 48,
   "metadata": {},
   "outputs": [],
   "source": [
    "Modelo1 = Modelo1.sample(n=3500)"
   ]
  },
  {
   "cell_type": "code",
   "execution_count": 49,
   "metadata": {},
   "outputs": [
    {
     "data": {
      "text/plain": [
       "(3500, 6)"
      ]
     },
     "execution_count": 49,
     "metadata": {},
     "output_type": "execute_result"
    }
   ],
   "source": [
    "Modelo1.shape"
   ]
  },
  {
   "cell_type": "code",
   "execution_count": 50,
   "metadata": {},
   "outputs": [],
   "source": [
    "Modelo1.reset_index(drop=True, inplace=True)"
   ]
  },
  {
   "cell_type": "code",
   "execution_count": 51,
   "metadata": {},
   "outputs": [
    {
     "data": {
      "text/html": [
       "<div>\n",
       "<style scoped>\n",
       "    .dataframe tbody tr th:only-of-type {\n",
       "        vertical-align: middle;\n",
       "    }\n",
       "\n",
       "    .dataframe tbody tr th {\n",
       "        vertical-align: top;\n",
       "    }\n",
       "\n",
       "    .dataframe thead th {\n",
       "        text-align: right;\n",
       "    }\n",
       "</style>\n",
       "<table border=\"1\" class=\"dataframe\">\n",
       "  <thead>\n",
       "    <tr style=\"text-align: right;\">\n",
       "      <th></th>\n",
       "      <th>id</th>\n",
       "      <th>app_name</th>\n",
       "      <th>genres</th>\n",
       "      <th>developer</th>\n",
       "      <th>specs</th>\n",
       "      <th>combined_features</th>\n",
       "    </tr>\n",
       "  </thead>\n",
       "  <tbody>\n",
       "    <tr>\n",
       "      <th>0</th>\n",
       "      <td>413460.0</td>\n",
       "      <td>Draft day sports college basketball 3</td>\n",
       "      <td>Strategy</td>\n",
       "      <td>Viva media</td>\n",
       "      <td>Single-player</td>\n",
       "      <td>Strategy Viva media Single-player</td>\n",
       "    </tr>\n",
       "    <tr>\n",
       "      <th>1</th>\n",
       "      <td>754120.0</td>\n",
       "      <td>Ninja stealth 3</td>\n",
       "      <td>Strategy</td>\n",
       "      <td>Sc jogos</td>\n",
       "      <td>Single-player</td>\n",
       "      <td>Strategy Sc jogos Single-player</td>\n",
       "    </tr>\n",
       "    <tr>\n",
       "      <th>2</th>\n",
       "      <td>258658.0</td>\n",
       "      <td>Train simulator: nj transit® alp-46 loco add-on</td>\n",
       "      <td>Simulation</td>\n",
       "      <td>Dovetail games - trains</td>\n",
       "      <td>Single-player</td>\n",
       "      <td>Simulation Dovetail games - trains Single-player</td>\n",
       "    </tr>\n",
       "    <tr>\n",
       "      <th>3</th>\n",
       "      <td>689120.0</td>\n",
       "      <td>Scuffle scoundrels</td>\n",
       "      <td>Early Access</td>\n",
       "      <td>Moped games</td>\n",
       "      <td>Single-player</td>\n",
       "      <td>Early Access Moped games Single-player</td>\n",
       "    </tr>\n",
       "    <tr>\n",
       "      <th>4</th>\n",
       "      <td>605954.0</td>\n",
       "      <td>Blue medusa - awesomenauts droppod</td>\n",
       "      <td>Strategy</td>\n",
       "      <td>Ronimo games</td>\n",
       "      <td>Single-player</td>\n",
       "      <td>Strategy Ronimo games Single-player</td>\n",
       "    </tr>\n",
       "    <tr>\n",
       "      <th>...</th>\n",
       "      <td>...</td>\n",
       "      <td>...</td>\n",
       "      <td>...</td>\n",
       "      <td>...</td>\n",
       "      <td>...</td>\n",
       "      <td>...</td>\n",
       "    </tr>\n",
       "    <tr>\n",
       "      <th>3495</th>\n",
       "      <td>676730.0</td>\n",
       "      <td>Behind the door</td>\n",
       "      <td>Indie</td>\n",
       "      <td>Dio alias games</td>\n",
       "      <td>Single-player</td>\n",
       "      <td>Indie Dio alias games Single-player</td>\n",
       "    </tr>\n",
       "    <tr>\n",
       "      <th>3496</th>\n",
       "      <td>745120.0</td>\n",
       "      <td>Pinball</td>\n",
       "      <td>Indie</td>\n",
       "      <td>Bakno games</td>\n",
       "      <td>Single-player</td>\n",
       "      <td>Indie Bakno games Single-player</td>\n",
       "    </tr>\n",
       "    <tr>\n",
       "      <th>3497</th>\n",
       "      <td>233370.0</td>\n",
       "      <td>The raven - legacy of a master thief</td>\n",
       "      <td>Adventure</td>\n",
       "      <td>Thq nordic</td>\n",
       "      <td>Single-player</td>\n",
       "      <td>Adventure Thq nordic Single-player</td>\n",
       "    </tr>\n",
       "    <tr>\n",
       "      <th>3498</th>\n",
       "      <td>279720.0</td>\n",
       "      <td>The i of the dragon</td>\n",
       "      <td>RPG</td>\n",
       "      <td>Topware interactive</td>\n",
       "      <td>Single-player</td>\n",
       "      <td>RPG Topware interactive Single-player</td>\n",
       "    </tr>\n",
       "    <tr>\n",
       "      <th>3499</th>\n",
       "      <td>389913.0</td>\n",
       "      <td>Fantasy grounds - top down tokens - vietnam so...</td>\n",
       "      <td>Strategy</td>\n",
       "      <td>Smiteworks usa, llc</td>\n",
       "      <td>Multi-player</td>\n",
       "      <td>Strategy Smiteworks usa, llc Multi-player</td>\n",
       "    </tr>\n",
       "  </tbody>\n",
       "</table>\n",
       "<p>3500 rows × 6 columns</p>\n",
       "</div>"
      ],
      "text/plain": [
       "            id                                           app_name  \\\n",
       "0     413460.0              Draft day sports college basketball 3   \n",
       "1     754120.0                                    Ninja stealth 3   \n",
       "2     258658.0    Train simulator: nj transit® alp-46 loco add-on   \n",
       "3     689120.0                                 Scuffle scoundrels   \n",
       "4     605954.0                 Blue medusa - awesomenauts droppod   \n",
       "...        ...                                                ...   \n",
       "3495  676730.0                                    Behind the door   \n",
       "3496  745120.0                                            Pinball   \n",
       "3497  233370.0               The raven - legacy of a master thief   \n",
       "3498  279720.0                                The i of the dragon   \n",
       "3499  389913.0  Fantasy grounds - top down tokens - vietnam so...   \n",
       "\n",
       "            genres                developer          specs  \\\n",
       "0         Strategy               Viva media  Single-player   \n",
       "1         Strategy                 Sc jogos  Single-player   \n",
       "2       Simulation  Dovetail games - trains  Single-player   \n",
       "3     Early Access              Moped games  Single-player   \n",
       "4         Strategy             Ronimo games  Single-player   \n",
       "...            ...                      ...            ...   \n",
       "3495         Indie          Dio alias games  Single-player   \n",
       "3496         Indie              Bakno games  Single-player   \n",
       "3497     Adventure               Thq nordic  Single-player   \n",
       "3498           RPG      Topware interactive  Single-player   \n",
       "3499      Strategy      Smiteworks usa, llc   Multi-player   \n",
       "\n",
       "                                     combined_features  \n",
       "0                    Strategy Viva media Single-player  \n",
       "1                      Strategy Sc jogos Single-player  \n",
       "2     Simulation Dovetail games - trains Single-player  \n",
       "3               Early Access Moped games Single-player  \n",
       "4                  Strategy Ronimo games Single-player  \n",
       "...                                                ...  \n",
       "3495               Indie Dio alias games Single-player  \n",
       "3496                   Indie Bakno games Single-player  \n",
       "3497                Adventure Thq nordic Single-player  \n",
       "3498             RPG Topware interactive Single-player  \n",
       "3499         Strategy Smiteworks usa, llc Multi-player  \n",
       "\n",
       "[3500 rows x 6 columns]"
      ]
     },
     "execution_count": 51,
     "metadata": {},
     "output_type": "execute_result"
    }
   ],
   "source": [
    "Modelo1"
   ]
  },
  {
   "cell_type": "markdown",
   "metadata": {},
   "source": [
    "Convertimos la columna 'id' a tipo de dato entero"
   ]
  },
  {
   "cell_type": "code",
   "execution_count": 52,
   "metadata": {},
   "outputs": [],
   "source": [
    "Modelo1['id'] = Modelo1['id'].astype(int)"
   ]
  },
  {
   "cell_type": "code",
   "execution_count": 53,
   "metadata": {},
   "outputs": [
    {
     "data": {
      "text/html": [
       "<div>\n",
       "<style scoped>\n",
       "    .dataframe tbody tr th:only-of-type {\n",
       "        vertical-align: middle;\n",
       "    }\n",
       "\n",
       "    .dataframe tbody tr th {\n",
       "        vertical-align: top;\n",
       "    }\n",
       "\n",
       "    .dataframe thead th {\n",
       "        text-align: right;\n",
       "    }\n",
       "</style>\n",
       "<table border=\"1\" class=\"dataframe\">\n",
       "  <thead>\n",
       "    <tr style=\"text-align: right;\">\n",
       "      <th></th>\n",
       "      <th>id</th>\n",
       "      <th>app_name</th>\n",
       "      <th>genres</th>\n",
       "      <th>developer</th>\n",
       "      <th>specs</th>\n",
       "      <th>combined_features</th>\n",
       "    </tr>\n",
       "  </thead>\n",
       "  <tbody>\n",
       "    <tr>\n",
       "      <th>0</th>\n",
       "      <td>413460</td>\n",
       "      <td>Draft day sports college basketball 3</td>\n",
       "      <td>Strategy</td>\n",
       "      <td>Viva media</td>\n",
       "      <td>Single-player</td>\n",
       "      <td>Strategy Viva media Single-player</td>\n",
       "    </tr>\n",
       "    <tr>\n",
       "      <th>1</th>\n",
       "      <td>754120</td>\n",
       "      <td>Ninja stealth 3</td>\n",
       "      <td>Strategy</td>\n",
       "      <td>Sc jogos</td>\n",
       "      <td>Single-player</td>\n",
       "      <td>Strategy Sc jogos Single-player</td>\n",
       "    </tr>\n",
       "    <tr>\n",
       "      <th>2</th>\n",
       "      <td>258658</td>\n",
       "      <td>Train simulator: nj transit® alp-46 loco add-on</td>\n",
       "      <td>Simulation</td>\n",
       "      <td>Dovetail games - trains</td>\n",
       "      <td>Single-player</td>\n",
       "      <td>Simulation Dovetail games - trains Single-player</td>\n",
       "    </tr>\n",
       "    <tr>\n",
       "      <th>3</th>\n",
       "      <td>689120</td>\n",
       "      <td>Scuffle scoundrels</td>\n",
       "      <td>Early Access</td>\n",
       "      <td>Moped games</td>\n",
       "      <td>Single-player</td>\n",
       "      <td>Early Access Moped games Single-player</td>\n",
       "    </tr>\n",
       "    <tr>\n",
       "      <th>4</th>\n",
       "      <td>605954</td>\n",
       "      <td>Blue medusa - awesomenauts droppod</td>\n",
       "      <td>Strategy</td>\n",
       "      <td>Ronimo games</td>\n",
       "      <td>Single-player</td>\n",
       "      <td>Strategy Ronimo games Single-player</td>\n",
       "    </tr>\n",
       "    <tr>\n",
       "      <th>...</th>\n",
       "      <td>...</td>\n",
       "      <td>...</td>\n",
       "      <td>...</td>\n",
       "      <td>...</td>\n",
       "      <td>...</td>\n",
       "      <td>...</td>\n",
       "    </tr>\n",
       "    <tr>\n",
       "      <th>3495</th>\n",
       "      <td>676730</td>\n",
       "      <td>Behind the door</td>\n",
       "      <td>Indie</td>\n",
       "      <td>Dio alias games</td>\n",
       "      <td>Single-player</td>\n",
       "      <td>Indie Dio alias games Single-player</td>\n",
       "    </tr>\n",
       "    <tr>\n",
       "      <th>3496</th>\n",
       "      <td>745120</td>\n",
       "      <td>Pinball</td>\n",
       "      <td>Indie</td>\n",
       "      <td>Bakno games</td>\n",
       "      <td>Single-player</td>\n",
       "      <td>Indie Bakno games Single-player</td>\n",
       "    </tr>\n",
       "    <tr>\n",
       "      <th>3497</th>\n",
       "      <td>233370</td>\n",
       "      <td>The raven - legacy of a master thief</td>\n",
       "      <td>Adventure</td>\n",
       "      <td>Thq nordic</td>\n",
       "      <td>Single-player</td>\n",
       "      <td>Adventure Thq nordic Single-player</td>\n",
       "    </tr>\n",
       "    <tr>\n",
       "      <th>3498</th>\n",
       "      <td>279720</td>\n",
       "      <td>The i of the dragon</td>\n",
       "      <td>RPG</td>\n",
       "      <td>Topware interactive</td>\n",
       "      <td>Single-player</td>\n",
       "      <td>RPG Topware interactive Single-player</td>\n",
       "    </tr>\n",
       "    <tr>\n",
       "      <th>3499</th>\n",
       "      <td>389913</td>\n",
       "      <td>Fantasy grounds - top down tokens - vietnam so...</td>\n",
       "      <td>Strategy</td>\n",
       "      <td>Smiteworks usa, llc</td>\n",
       "      <td>Multi-player</td>\n",
       "      <td>Strategy Smiteworks usa, llc Multi-player</td>\n",
       "    </tr>\n",
       "  </tbody>\n",
       "</table>\n",
       "<p>3500 rows × 6 columns</p>\n",
       "</div>"
      ],
      "text/plain": [
       "          id                                           app_name        genres  \\\n",
       "0     413460              Draft day sports college basketball 3      Strategy   \n",
       "1     754120                                    Ninja stealth 3      Strategy   \n",
       "2     258658    Train simulator: nj transit® alp-46 loco add-on    Simulation   \n",
       "3     689120                                 Scuffle scoundrels  Early Access   \n",
       "4     605954                 Blue medusa - awesomenauts droppod      Strategy   \n",
       "...      ...                                                ...           ...   \n",
       "3495  676730                                    Behind the door         Indie   \n",
       "3496  745120                                            Pinball         Indie   \n",
       "3497  233370               The raven - legacy of a master thief     Adventure   \n",
       "3498  279720                                The i of the dragon           RPG   \n",
       "3499  389913  Fantasy grounds - top down tokens - vietnam so...      Strategy   \n",
       "\n",
       "                    developer          specs  \\\n",
       "0                  Viva media  Single-player   \n",
       "1                    Sc jogos  Single-player   \n",
       "2     Dovetail games - trains  Single-player   \n",
       "3                 Moped games  Single-player   \n",
       "4                Ronimo games  Single-player   \n",
       "...                       ...            ...   \n",
       "3495          Dio alias games  Single-player   \n",
       "3496              Bakno games  Single-player   \n",
       "3497               Thq nordic  Single-player   \n",
       "3498      Topware interactive  Single-player   \n",
       "3499      Smiteworks usa, llc   Multi-player   \n",
       "\n",
       "                                     combined_features  \n",
       "0                    Strategy Viva media Single-player  \n",
       "1                      Strategy Sc jogos Single-player  \n",
       "2     Simulation Dovetail games - trains Single-player  \n",
       "3               Early Access Moped games Single-player  \n",
       "4                  Strategy Ronimo games Single-player  \n",
       "...                                                ...  \n",
       "3495               Indie Dio alias games Single-player  \n",
       "3496                   Indie Bakno games Single-player  \n",
       "3497                Adventure Thq nordic Single-player  \n",
       "3498             RPG Topware interactive Single-player  \n",
       "3499         Strategy Smiteworks usa, llc Multi-player  \n",
       "\n",
       "[3500 rows x 6 columns]"
      ]
     },
     "execution_count": 53,
     "metadata": {},
     "output_type": "execute_result"
    }
   ],
   "source": [
    "Modelo1"
   ]
  },
  {
   "cell_type": "code",
   "execution_count": 54,
   "metadata": {},
   "outputs": [
    {
     "data": {
      "text/plain": [
       "app_name\n",
       "See no evil                                             2\n",
       "Detective butler: maiden voyage murder - soundtrack     1\n",
       "Greed corp                                              1\n",
       "Melody                                                  1\n",
       "Project abyss - art & music collection                  1\n",
       "                                                       ..\n",
       "Bleach the movie: hell verse                            1\n",
       "Antboy                                                  1\n",
       "Space harrier™ ii                                       1\n",
       "Arraynium                                               1\n",
       "Fantasy grounds - top down tokens - vietnam soldiers    1\n",
       "Name: count, Length: 3499, dtype: int64"
      ]
     },
     "execution_count": 54,
     "metadata": {},
     "output_type": "execute_result"
    }
   ],
   "source": [
    "Modelo1['app_name'].value_counts()"
   ]
  },
  {
   "cell_type": "code",
   "execution_count": 55,
   "metadata": {},
   "outputs": [],
   "source": [
    "with gzip.open('./Modelo1.csv.gz', 'wb') as f:\n",
    "    Modelo1.to_csv(f, index=False, encoding='utf-8')"
   ]
  },
  {
   "cell_type": "markdown",
   "metadata": {},
   "source": [
    "Si es un sistema de recomendación item-item:\n",
    "\n",
    "def recomendacion_juego( id de producto ): Ingresando el id de producto, deberíamos recibir una lista con 5 juegos recomendados similares al ingresado."
   ]
  },
  {
   "cell_type": "markdown",
   "metadata": {},
   "source": [
    "Se preparan los datos de la columna 'combined_features' para ser utilizados en un modelo de machine learning al convertirlos en una matriz de recuento de términos"
   ]
  },
  {
   "cell_type": "code",
   "execution_count": 56,
   "metadata": {},
   "outputs": [],
   "source": [
    "CV = CountVectorizer()\n",
    "converted_metrix = CV.fit_transform(Modelo1['combined_features'])"
   ]
  },
  {
   "cell_type": "code",
   "execution_count": 57,
   "metadata": {},
   "outputs": [],
   "source": [
    "cosine_similarity = cosine_similarity(converted_metrix)"
   ]
  },
  {
   "cell_type": "code",
   "execution_count": 58,
   "metadata": {},
   "outputs": [
    {
     "data": {
      "text/plain": [
       "['Modelo1.pkl']"
      ]
     },
     "execution_count": 58,
     "metadata": {},
     "output_type": "execute_result"
    }
   ],
   "source": [
    "# guardo la matriz\n",
    "\n",
    "import joblib #pickle es alternativa\n",
    "\n",
    "joblib.dump(cosine_similarity, 'Modelo1.pkl', compress=1)"
   ]
  },
  {
   "cell_type": "code",
   "execution_count": 59,
   "metadata": {},
   "outputs": [],
   "source": [
    "import joblib\n",
    "with open('Modelo1.pkl', 'rb') as file:\n",
    "        modelo = joblib.load(file)\n"
   ]
  },
  {
   "cell_type": "markdown",
   "metadata": {},
   "source": [
    "La siguiente función toma un índice de un juego, calcula la similitud del coseno con respecto a otros juegos, y devuelve los nombres de los 5 juegos más similares.\n"
   ]
  },
  {
   "cell_type": "code",
   "execution_count": 64,
   "metadata": {},
   "outputs": [],
   "source": [
    "def recomendacion3(item_id:int):\n",
    "    #Cargar el modelo entrenado desde el archivo pickle\n",
    "    with open('Modelo1.pkl', 'rb') as file:\n",
    "       modelo = joblib.load(file)\n",
    "\n",
    "    Modelo1 = pd.read_csv('./Modelo1.csv.gz', compression='gzip')\n",
    "    \n",
    "    if item_id not in Modelo1['id'].tolist():\n",
    "       return {\"Respuesta\": \"No se encontraron resultados para la búsqueda realizada\"}\n",
    "\n",
    "    def get_recommendations(idx, cosine_sim=modelo):\n",
    "       idx = Modelo1[Modelo1['id'] == item_id].index[0]\n",
    "       sim_scores = list(enumerate(cosine_sim[idx]))\n",
    "       sim_scores = sorted(sim_scores, key=lambda x: x[1], reverse=True)\n",
    "       sim_scores = sim_scores[1:6]  # Top 5 juegos similares\n",
    "       game_indices = [i[0] for i in sim_scores]\n",
    "       return Modelo1['app_name'].iloc[game_indices].tolist()\n",
    "\n",
    "    #Obtener el índice del item_id\n",
    "   # \n",
    "\n",
    "    recommendations = get_recommendations(item_id)\n",
    "    return {\"Recomendaciones\": recommendations}\n"
   ]
  },
  {
   "cell_type": "code",
   "execution_count": 65,
   "metadata": {},
   "outputs": [
    {
     "data": {
      "text/plain": [
       "{'Recomendaciones': ['Yatzy',\n",
       "  'Pinball',\n",
       "  'Mall empire',\n",
       "  'Awesomenauts - abyssal swiggins skin',\n",
       "  'Sidewords']}"
      ]
     },
     "execution_count": 65,
     "metadata": {},
     "output_type": "execute_result"
    }
   ],
   "source": [
    "recomendacion3(745120)"
   ]
  },
  {
   "cell_type": "markdown",
   "metadata": {},
   "source": [
    "Si es un sistema de recomendación user-item:\n",
    "\n",
    "def recomendacion_usuario( id de usuario ): Ingresando el id de un usuario, deberíamos recibir una lista con 5 juegos recomendados para dicho usuario."
   ]
  },
  {
   "cell_type": "code",
   "execution_count": 66,
   "metadata": {},
   "outputs": [],
   "source": [
    "reviews2 = pd.read_csv('./Data/Data-Limpia/user_reviews_limpio.csv.gz',compression='gzip')"
   ]
  },
  {
   "cell_type": "code",
   "execution_count": 67,
   "metadata": {},
   "outputs": [],
   "source": [
    "steams2 = pd.read_csv('./EDA/Data-EDA/steam_games_EDA.csv.gz',compression='gzip')"
   ]
  },
  {
   "cell_type": "markdown",
   "metadata": {},
   "source": [
    "Se realiza un merge de los DF reviews2 y steams2"
   ]
  },
  {
   "cell_type": "code",
   "execution_count": 68,
   "metadata": {},
   "outputs": [],
   "source": [
    "Modelo2 = pd.merge(reviews2, steams2, left_on='item_id', right_on='id', how='inner')"
   ]
  },
  {
   "cell_type": "code",
   "execution_count": 69,
   "metadata": {},
   "outputs": [
    {
     "data": {
      "text/html": [
       "<div>\n",
       "<style scoped>\n",
       "    .dataframe tbody tr th:only-of-type {\n",
       "        vertical-align: middle;\n",
       "    }\n",
       "\n",
       "    .dataframe tbody tr th {\n",
       "        vertical-align: top;\n",
       "    }\n",
       "\n",
       "    .dataframe thead th {\n",
       "        text-align: right;\n",
       "    }\n",
       "</style>\n",
       "<table border=\"1\" class=\"dataframe\">\n",
       "  <thead>\n",
       "    <tr style=\"text-align: right;\">\n",
       "      <th></th>\n",
       "      <th>user_id</th>\n",
       "      <th>item_id</th>\n",
       "      <th>recommend</th>\n",
       "      <th>sentiment_analysis</th>\n",
       "      <th>genres</th>\n",
       "      <th>app_name</th>\n",
       "      <th>specs</th>\n",
       "      <th>price</th>\n",
       "      <th>id</th>\n",
       "      <th>developer</th>\n",
       "      <th>año</th>\n",
       "    </tr>\n",
       "  </thead>\n",
       "  <tbody>\n",
       "    <tr>\n",
       "      <th>0</th>\n",
       "      <td>76561197970982479</td>\n",
       "      <td>1250.0</td>\n",
       "      <td>True</td>\n",
       "      <td>2</td>\n",
       "      <td>FPS</td>\n",
       "      <td>Killing floor</td>\n",
       "      <td>Single-player</td>\n",
       "      <td>19.99</td>\n",
       "      <td>1250.0</td>\n",
       "      <td>Tripwire interactive</td>\n",
       "      <td>2009</td>\n",
       "    </tr>\n",
       "    <tr>\n",
       "      <th>1</th>\n",
       "      <td>76561197970982479</td>\n",
       "      <td>1250.0</td>\n",
       "      <td>True</td>\n",
       "      <td>2</td>\n",
       "      <td>FPS</td>\n",
       "      <td>Killing floor</td>\n",
       "      <td>Multi-player</td>\n",
       "      <td>19.99</td>\n",
       "      <td>1250.0</td>\n",
       "      <td>Tripwire interactive</td>\n",
       "      <td>2009</td>\n",
       "    </tr>\n",
       "    <tr>\n",
       "      <th>2</th>\n",
       "      <td>76561197970982479</td>\n",
       "      <td>1250.0</td>\n",
       "      <td>True</td>\n",
       "      <td>2</td>\n",
       "      <td>FPS</td>\n",
       "      <td>Killing floor</td>\n",
       "      <td>Co-op</td>\n",
       "      <td>19.99</td>\n",
       "      <td>1250.0</td>\n",
       "      <td>Tripwire interactive</td>\n",
       "      <td>2009</td>\n",
       "    </tr>\n",
       "    <tr>\n",
       "      <th>3</th>\n",
       "      <td>76561197970982479</td>\n",
       "      <td>1250.0</td>\n",
       "      <td>True</td>\n",
       "      <td>2</td>\n",
       "      <td>FPS</td>\n",
       "      <td>Killing floor</td>\n",
       "      <td>Cross-Platform Multiplayer</td>\n",
       "      <td>19.99</td>\n",
       "      <td>1250.0</td>\n",
       "      <td>Tripwire interactive</td>\n",
       "      <td>2009</td>\n",
       "    </tr>\n",
       "    <tr>\n",
       "      <th>4</th>\n",
       "      <td>76561197970982479</td>\n",
       "      <td>1250.0</td>\n",
       "      <td>True</td>\n",
       "      <td>2</td>\n",
       "      <td>FPS</td>\n",
       "      <td>Killing floor</td>\n",
       "      <td>Steam Achievements</td>\n",
       "      <td>19.99</td>\n",
       "      <td>1250.0</td>\n",
       "      <td>Tripwire interactive</td>\n",
       "      <td>2009</td>\n",
       "    </tr>\n",
       "    <tr>\n",
       "      <th>...</th>\n",
       "      <td>...</td>\n",
       "      <td>...</td>\n",
       "      <td>...</td>\n",
       "      <td>...</td>\n",
       "      <td>...</td>\n",
       "      <td>...</td>\n",
       "      <td>...</td>\n",
       "      <td>...</td>\n",
       "      <td>...</td>\n",
       "      <td>...</td>\n",
       "      <td>...</td>\n",
       "    </tr>\n",
       "    <tr>\n",
       "      <th>7188340</th>\n",
       "      <td>vinquility</td>\n",
       "      <td>431510.0</td>\n",
       "      <td>True</td>\n",
       "      <td>2</td>\n",
       "      <td>Anime</td>\n",
       "      <td>Mystic destinies: serendipity of aeons</td>\n",
       "      <td>In-App Purchases</td>\n",
       "      <td>0.00</td>\n",
       "      <td>431510.0</td>\n",
       "      <td>Aeon dream studios</td>\n",
       "      <td>2016</td>\n",
       "    </tr>\n",
       "    <tr>\n",
       "      <th>7188341</th>\n",
       "      <td>vinquility</td>\n",
       "      <td>431510.0</td>\n",
       "      <td>True</td>\n",
       "      <td>2</td>\n",
       "      <td>Romance</td>\n",
       "      <td>Mystic destinies: serendipity of aeons</td>\n",
       "      <td>Single-player</td>\n",
       "      <td>0.00</td>\n",
       "      <td>431510.0</td>\n",
       "      <td>Aeon dream studios</td>\n",
       "      <td>2016</td>\n",
       "    </tr>\n",
       "    <tr>\n",
       "      <th>7188342</th>\n",
       "      <td>vinquility</td>\n",
       "      <td>431510.0</td>\n",
       "      <td>True</td>\n",
       "      <td>2</td>\n",
       "      <td>Romance</td>\n",
       "      <td>Mystic destinies: serendipity of aeons</td>\n",
       "      <td>Steam Achievements</td>\n",
       "      <td>0.00</td>\n",
       "      <td>431510.0</td>\n",
       "      <td>Aeon dream studios</td>\n",
       "      <td>2016</td>\n",
       "    </tr>\n",
       "    <tr>\n",
       "      <th>7188343</th>\n",
       "      <td>vinquility</td>\n",
       "      <td>431510.0</td>\n",
       "      <td>True</td>\n",
       "      <td>2</td>\n",
       "      <td>Romance</td>\n",
       "      <td>Mystic destinies: serendipity of aeons</td>\n",
       "      <td>Steam Trading Cards</td>\n",
       "      <td>0.00</td>\n",
       "      <td>431510.0</td>\n",
       "      <td>Aeon dream studios</td>\n",
       "      <td>2016</td>\n",
       "    </tr>\n",
       "    <tr>\n",
       "      <th>7188344</th>\n",
       "      <td>vinquility</td>\n",
       "      <td>431510.0</td>\n",
       "      <td>True</td>\n",
       "      <td>2</td>\n",
       "      <td>Romance</td>\n",
       "      <td>Mystic destinies: serendipity of aeons</td>\n",
       "      <td>In-App Purchases</td>\n",
       "      <td>0.00</td>\n",
       "      <td>431510.0</td>\n",
       "      <td>Aeon dream studios</td>\n",
       "      <td>2016</td>\n",
       "    </tr>\n",
       "  </tbody>\n",
       "</table>\n",
       "<p>7188345 rows × 11 columns</p>\n",
       "</div>"
      ],
      "text/plain": [
       "                   user_id   item_id  recommend  sentiment_analysis   genres  \\\n",
       "0        76561197970982479    1250.0       True                   2      FPS   \n",
       "1        76561197970982479    1250.0       True                   2      FPS   \n",
       "2        76561197970982479    1250.0       True                   2      FPS   \n",
       "3        76561197970982479    1250.0       True                   2      FPS   \n",
       "4        76561197970982479    1250.0       True                   2      FPS   \n",
       "...                    ...       ...        ...                 ...      ...   \n",
       "7188340         vinquility  431510.0       True                   2    Anime   \n",
       "7188341         vinquility  431510.0       True                   2  Romance   \n",
       "7188342         vinquility  431510.0       True                   2  Romance   \n",
       "7188343         vinquility  431510.0       True                   2  Romance   \n",
       "7188344         vinquility  431510.0       True                   2  Romance   \n",
       "\n",
       "                                       app_name                       specs  \\\n",
       "0                                 Killing floor               Single-player   \n",
       "1                                 Killing floor                Multi-player   \n",
       "2                                 Killing floor                       Co-op   \n",
       "3                                 Killing floor  Cross-Platform Multiplayer   \n",
       "4                                 Killing floor          Steam Achievements   \n",
       "...                                         ...                         ...   \n",
       "7188340  Mystic destinies: serendipity of aeons            In-App Purchases   \n",
       "7188341  Mystic destinies: serendipity of aeons               Single-player   \n",
       "7188342  Mystic destinies: serendipity of aeons          Steam Achievements   \n",
       "7188343  Mystic destinies: serendipity of aeons         Steam Trading Cards   \n",
       "7188344  Mystic destinies: serendipity of aeons            In-App Purchases   \n",
       "\n",
       "         price        id             developer   año  \n",
       "0        19.99    1250.0  Tripwire interactive  2009  \n",
       "1        19.99    1250.0  Tripwire interactive  2009  \n",
       "2        19.99    1250.0  Tripwire interactive  2009  \n",
       "3        19.99    1250.0  Tripwire interactive  2009  \n",
       "4        19.99    1250.0  Tripwire interactive  2009  \n",
       "...        ...       ...                   ...   ...  \n",
       "7188340   0.00  431510.0    Aeon dream studios  2016  \n",
       "7188341   0.00  431510.0    Aeon dream studios  2016  \n",
       "7188342   0.00  431510.0    Aeon dream studios  2016  \n",
       "7188343   0.00  431510.0    Aeon dream studios  2016  \n",
       "7188344   0.00  431510.0    Aeon dream studios  2016  \n",
       "\n",
       "[7188345 rows x 11 columns]"
      ]
     },
     "execution_count": 69,
     "metadata": {},
     "output_type": "execute_result"
    }
   ],
   "source": [
    "Modelo2"
   ]
  },
  {
   "cell_type": "code",
   "execution_count": 70,
   "metadata": {},
   "outputs": [
    {
     "data": {
      "text/plain": [
       "app_name\n",
       "Team fortress 2                                886560\n",
       "Counter-strike: global offensive               593280\n",
       "Garry's mod                                    374880\n",
       "Dota 2                                         370560\n",
       "Unturned                                       226820\n",
       "                                                ...  \n",
       "Cheats 4 hire                                       1\n",
       "Dimmdrive :: gaming ramdrive @ 10,000+ mb/s         1\n",
       "New york taxi simulator                             1\n",
       "Get rich or die gaming                              1\n",
       "Demonlisher                                         1\n",
       "Name: count, Length: 3168, dtype: int64"
      ]
     },
     "execution_count": 70,
     "metadata": {},
     "output_type": "execute_result"
    }
   ],
   "source": [
    "Modelo2['app_name'].value_counts()"
   ]
  },
  {
   "cell_type": "markdown",
   "metadata": {},
   "source": [
    "Nos quedamos solamente con las columnas que vamos a utilizar"
   ]
  },
  {
   "cell_type": "code",
   "execution_count": 71,
   "metadata": {},
   "outputs": [],
   "source": [
    "Modelo2 = Modelo2[['id','user_id', 'app_name', 'genres', 'developer', 'specs']]"
   ]
  },
  {
   "cell_type": "code",
   "execution_count": 72,
   "metadata": {},
   "outputs": [
    {
     "name": "stderr",
     "output_type": "stream",
     "text": [
      "C:\\Users\\belen\\AppData\\Local\\Temp\\ipykernel_12800\\1177131261.py:2: SettingWithCopyWarning: \n",
      "A value is trying to be set on a copy of a slice from a DataFrame.\n",
      "Try using .loc[row_indexer,col_indexer] = value instead\n",
      "\n",
      "See the caveats in the documentation: https://pandas.pydata.org/pandas-docs/stable/user_guide/indexing.html#returning-a-view-versus-a-copy\n",
      "  Modelo2['combined_features'] = Modelo2['genres'] + ' ' + Modelo2['developer'] + ' ' + Modelo2['specs']\n"
     ]
    }
   ],
   "source": [
    "# Limpieza y preprocesamiento de texto\n",
    "Modelo2['combined_features'] = Modelo2['genres'] + ' ' + Modelo2['developer'] + ' ' + Modelo2['specs']"
   ]
  },
  {
   "cell_type": "code",
   "execution_count": 73,
   "metadata": {},
   "outputs": [
    {
     "data": {
      "text/plain": [
       "(7188345, 7)"
      ]
     },
     "execution_count": 73,
     "metadata": {},
     "output_type": "execute_result"
    }
   ],
   "source": [
    "Modelo2.shape"
   ]
  },
  {
   "cell_type": "code",
   "execution_count": 74,
   "metadata": {},
   "outputs": [
    {
     "data": {
      "text/html": [
       "<div>\n",
       "<style scoped>\n",
       "    .dataframe tbody tr th:only-of-type {\n",
       "        vertical-align: middle;\n",
       "    }\n",
       "\n",
       "    .dataframe tbody tr th {\n",
       "        vertical-align: top;\n",
       "    }\n",
       "\n",
       "    .dataframe thead th {\n",
       "        text-align: right;\n",
       "    }\n",
       "</style>\n",
       "<table border=\"1\" class=\"dataframe\">\n",
       "  <thead>\n",
       "    <tr style=\"text-align: right;\">\n",
       "      <th></th>\n",
       "      <th>id</th>\n",
       "      <th>user_id</th>\n",
       "      <th>app_name</th>\n",
       "      <th>genres</th>\n",
       "      <th>developer</th>\n",
       "      <th>specs</th>\n",
       "      <th>combined_features</th>\n",
       "    </tr>\n",
       "  </thead>\n",
       "  <tbody>\n",
       "    <tr>\n",
       "      <th>0</th>\n",
       "      <td>1250.0</td>\n",
       "      <td>76561197970982479</td>\n",
       "      <td>Killing floor</td>\n",
       "      <td>FPS</td>\n",
       "      <td>Tripwire interactive</td>\n",
       "      <td>Single-player</td>\n",
       "      <td>FPS Tripwire interactive Single-player</td>\n",
       "    </tr>\n",
       "    <tr>\n",
       "      <th>1</th>\n",
       "      <td>1250.0</td>\n",
       "      <td>76561197970982479</td>\n",
       "      <td>Killing floor</td>\n",
       "      <td>FPS</td>\n",
       "      <td>Tripwire interactive</td>\n",
       "      <td>Multi-player</td>\n",
       "      <td>FPS Tripwire interactive Multi-player</td>\n",
       "    </tr>\n",
       "    <tr>\n",
       "      <th>2</th>\n",
       "      <td>1250.0</td>\n",
       "      <td>76561197970982479</td>\n",
       "      <td>Killing floor</td>\n",
       "      <td>FPS</td>\n",
       "      <td>Tripwire interactive</td>\n",
       "      <td>Co-op</td>\n",
       "      <td>FPS Tripwire interactive Co-op</td>\n",
       "    </tr>\n",
       "    <tr>\n",
       "      <th>3</th>\n",
       "      <td>1250.0</td>\n",
       "      <td>76561197970982479</td>\n",
       "      <td>Killing floor</td>\n",
       "      <td>FPS</td>\n",
       "      <td>Tripwire interactive</td>\n",
       "      <td>Cross-Platform Multiplayer</td>\n",
       "      <td>FPS Tripwire interactive Cross-Platform Multip...</td>\n",
       "    </tr>\n",
       "    <tr>\n",
       "      <th>4</th>\n",
       "      <td>1250.0</td>\n",
       "      <td>76561197970982479</td>\n",
       "      <td>Killing floor</td>\n",
       "      <td>FPS</td>\n",
       "      <td>Tripwire interactive</td>\n",
       "      <td>Steam Achievements</td>\n",
       "      <td>FPS Tripwire interactive Steam Achievements</td>\n",
       "    </tr>\n",
       "    <tr>\n",
       "      <th>...</th>\n",
       "      <td>...</td>\n",
       "      <td>...</td>\n",
       "      <td>...</td>\n",
       "      <td>...</td>\n",
       "      <td>...</td>\n",
       "      <td>...</td>\n",
       "      <td>...</td>\n",
       "    </tr>\n",
       "    <tr>\n",
       "      <th>7188340</th>\n",
       "      <td>431510.0</td>\n",
       "      <td>vinquility</td>\n",
       "      <td>Mystic destinies: serendipity of aeons</td>\n",
       "      <td>Anime</td>\n",
       "      <td>Aeon dream studios</td>\n",
       "      <td>In-App Purchases</td>\n",
       "      <td>Anime Aeon dream studios In-App Purchases</td>\n",
       "    </tr>\n",
       "    <tr>\n",
       "      <th>7188341</th>\n",
       "      <td>431510.0</td>\n",
       "      <td>vinquility</td>\n",
       "      <td>Mystic destinies: serendipity of aeons</td>\n",
       "      <td>Romance</td>\n",
       "      <td>Aeon dream studios</td>\n",
       "      <td>Single-player</td>\n",
       "      <td>Romance Aeon dream studios Single-player</td>\n",
       "    </tr>\n",
       "    <tr>\n",
       "      <th>7188342</th>\n",
       "      <td>431510.0</td>\n",
       "      <td>vinquility</td>\n",
       "      <td>Mystic destinies: serendipity of aeons</td>\n",
       "      <td>Romance</td>\n",
       "      <td>Aeon dream studios</td>\n",
       "      <td>Steam Achievements</td>\n",
       "      <td>Romance Aeon dream studios Steam Achievements</td>\n",
       "    </tr>\n",
       "    <tr>\n",
       "      <th>7188343</th>\n",
       "      <td>431510.0</td>\n",
       "      <td>vinquility</td>\n",
       "      <td>Mystic destinies: serendipity of aeons</td>\n",
       "      <td>Romance</td>\n",
       "      <td>Aeon dream studios</td>\n",
       "      <td>Steam Trading Cards</td>\n",
       "      <td>Romance Aeon dream studios Steam Trading Cards</td>\n",
       "    </tr>\n",
       "    <tr>\n",
       "      <th>7188344</th>\n",
       "      <td>431510.0</td>\n",
       "      <td>vinquility</td>\n",
       "      <td>Mystic destinies: serendipity of aeons</td>\n",
       "      <td>Romance</td>\n",
       "      <td>Aeon dream studios</td>\n",
       "      <td>In-App Purchases</td>\n",
       "      <td>Romance Aeon dream studios In-App Purchases</td>\n",
       "    </tr>\n",
       "  </tbody>\n",
       "</table>\n",
       "<p>7188345 rows × 7 columns</p>\n",
       "</div>"
      ],
      "text/plain": [
       "               id            user_id                                app_name  \\\n",
       "0          1250.0  76561197970982479                           Killing floor   \n",
       "1          1250.0  76561197970982479                           Killing floor   \n",
       "2          1250.0  76561197970982479                           Killing floor   \n",
       "3          1250.0  76561197970982479                           Killing floor   \n",
       "4          1250.0  76561197970982479                           Killing floor   \n",
       "...           ...                ...                                     ...   \n",
       "7188340  431510.0         vinquility  Mystic destinies: serendipity of aeons   \n",
       "7188341  431510.0         vinquility  Mystic destinies: serendipity of aeons   \n",
       "7188342  431510.0         vinquility  Mystic destinies: serendipity of aeons   \n",
       "7188343  431510.0         vinquility  Mystic destinies: serendipity of aeons   \n",
       "7188344  431510.0         vinquility  Mystic destinies: serendipity of aeons   \n",
       "\n",
       "          genres             developer                       specs  \\\n",
       "0            FPS  Tripwire interactive               Single-player   \n",
       "1            FPS  Tripwire interactive                Multi-player   \n",
       "2            FPS  Tripwire interactive                       Co-op   \n",
       "3            FPS  Tripwire interactive  Cross-Platform Multiplayer   \n",
       "4            FPS  Tripwire interactive          Steam Achievements   \n",
       "...          ...                   ...                         ...   \n",
       "7188340    Anime    Aeon dream studios            In-App Purchases   \n",
       "7188341  Romance    Aeon dream studios               Single-player   \n",
       "7188342  Romance    Aeon dream studios          Steam Achievements   \n",
       "7188343  Romance    Aeon dream studios         Steam Trading Cards   \n",
       "7188344  Romance    Aeon dream studios            In-App Purchases   \n",
       "\n",
       "                                         combined_features  \n",
       "0                   FPS Tripwire interactive Single-player  \n",
       "1                    FPS Tripwire interactive Multi-player  \n",
       "2                           FPS Tripwire interactive Co-op  \n",
       "3        FPS Tripwire interactive Cross-Platform Multip...  \n",
       "4              FPS Tripwire interactive Steam Achievements  \n",
       "...                                                    ...  \n",
       "7188340          Anime Aeon dream studios In-App Purchases  \n",
       "7188341           Romance Aeon dream studios Single-player  \n",
       "7188342      Romance Aeon dream studios Steam Achievements  \n",
       "7188343     Romance Aeon dream studios Steam Trading Cards  \n",
       "7188344        Romance Aeon dream studios In-App Purchases  \n",
       "\n",
       "[7188345 rows x 7 columns]"
      ]
     },
     "execution_count": 74,
     "metadata": {},
     "output_type": "execute_result"
    }
   ],
   "source": [
    "Modelo2"
   ]
  },
  {
   "cell_type": "code",
   "execution_count": 75,
   "metadata": {},
   "outputs": [
    {
     "data": {
      "text/plain": [
       "app_name\n",
       "Team fortress 2                                886560\n",
       "Counter-strike: global offensive               593280\n",
       "Garry's mod                                    374880\n",
       "Dota 2                                         370560\n",
       "Unturned                                       226820\n",
       "                                                ...  \n",
       "Cheats 4 hire                                       1\n",
       "Dimmdrive :: gaming ramdrive @ 10,000+ mb/s         1\n",
       "New york taxi simulator                             1\n",
       "Get rich or die gaming                              1\n",
       "Demonlisher                                         1\n",
       "Name: count, Length: 3168, dtype: int64"
      ]
     },
     "execution_count": 75,
     "metadata": {},
     "output_type": "execute_result"
    }
   ],
   "source": [
    "Modelo2['app_name'].value_counts()"
   ]
  },
  {
   "cell_type": "markdown",
   "metadata": {},
   "source": [
    "Revisamos si hay valores nulos"
   ]
  },
  {
   "cell_type": "code",
   "execution_count": 76,
   "metadata": {},
   "outputs": [
    {
     "data": {
      "text/plain": [
       "id                     0\n",
       "user_id                0\n",
       "app_name               0\n",
       "genres                 0\n",
       "developer            174\n",
       "specs                  0\n",
       "combined_features    174\n",
       "dtype: int64"
      ]
     },
     "execution_count": 76,
     "metadata": {},
     "output_type": "execute_result"
    }
   ],
   "source": [
    "Modelo2.isna().sum()"
   ]
  },
  {
   "cell_type": "markdown",
   "metadata": {},
   "source": [
    "Eliminamos los valores nulos encontrados"
   ]
  },
  {
   "cell_type": "code",
   "execution_count": 77,
   "metadata": {},
   "outputs": [],
   "source": [
    "Modelo2=Modelo2.dropna()"
   ]
  },
  {
   "cell_type": "markdown",
   "metadata": {},
   "source": [
    "Agrupamos la columna 'id'"
   ]
  },
  {
   "cell_type": "code",
   "execution_count": 78,
   "metadata": {},
   "outputs": [],
   "source": [
    "Modelo2 = Modelo2.groupby('id').first().reset_index()"
   ]
  },
  {
   "cell_type": "markdown",
   "metadata": {},
   "source": [
    "Nos quedamos solamente con los 'id' distintos a 0"
   ]
  },
  {
   "cell_type": "code",
   "execution_count": 79,
   "metadata": {},
   "outputs": [],
   "source": [
    "Modelo2 = Modelo2[Modelo2['id']!=0]"
   ]
  },
  {
   "cell_type": "code",
   "execution_count": 80,
   "metadata": {},
   "outputs": [
    {
     "data": {
      "text/plain": [
       "3166"
      ]
     },
     "execution_count": 80,
     "metadata": {},
     "output_type": "execute_result"
    }
   ],
   "source": [
    "Modelo2['app_name'].nunique()"
   ]
  },
  {
   "cell_type": "code",
   "execution_count": 81,
   "metadata": {},
   "outputs": [
    {
     "data": {
      "text/html": [
       "<div>\n",
       "<style scoped>\n",
       "    .dataframe tbody tr th:only-of-type {\n",
       "        vertical-align: middle;\n",
       "    }\n",
       "\n",
       "    .dataframe tbody tr th {\n",
       "        vertical-align: top;\n",
       "    }\n",
       "\n",
       "    .dataframe thead th {\n",
       "        text-align: right;\n",
       "    }\n",
       "</style>\n",
       "<table border=\"1\" class=\"dataframe\">\n",
       "  <thead>\n",
       "    <tr style=\"text-align: right;\">\n",
       "      <th></th>\n",
       "      <th>id</th>\n",
       "      <th>user_id</th>\n",
       "      <th>app_name</th>\n",
       "      <th>genres</th>\n",
       "      <th>developer</th>\n",
       "      <th>specs</th>\n",
       "      <th>combined_features</th>\n",
       "    </tr>\n",
       "  </thead>\n",
       "  <tbody>\n",
       "    <tr>\n",
       "      <th>0</th>\n",
       "      <td>10.0</td>\n",
       "      <td>Bennysaputra</td>\n",
       "      <td>Counter-strike</td>\n",
       "      <td>Action</td>\n",
       "      <td>Valve</td>\n",
       "      <td>Multi-player</td>\n",
       "      <td>Action Valve Multi-player</td>\n",
       "    </tr>\n",
       "    <tr>\n",
       "      <th>1</th>\n",
       "      <td>20.0</td>\n",
       "      <td>76561198039441595</td>\n",
       "      <td>Team fortress classic</td>\n",
       "      <td>Action</td>\n",
       "      <td>Valve</td>\n",
       "      <td>Multi-player</td>\n",
       "      <td>Action Valve Multi-player</td>\n",
       "    </tr>\n",
       "    <tr>\n",
       "      <th>2</th>\n",
       "      <td>30.0</td>\n",
       "      <td>agenteagle</td>\n",
       "      <td>Day of defeat</td>\n",
       "      <td>FPS</td>\n",
       "      <td>Valve</td>\n",
       "      <td>Multi-player</td>\n",
       "      <td>FPS Valve Multi-player</td>\n",
       "    </tr>\n",
       "    <tr>\n",
       "      <th>3</th>\n",
       "      <td>40.0</td>\n",
       "      <td>2ez2xl</td>\n",
       "      <td>Deathmatch classic</td>\n",
       "      <td>Action</td>\n",
       "      <td>Valve</td>\n",
       "      <td>Multi-player</td>\n",
       "      <td>Action Valve Multi-player</td>\n",
       "    </tr>\n",
       "    <tr>\n",
       "      <th>4</th>\n",
       "      <td>50.0</td>\n",
       "      <td>pleasedontvotefortrump</td>\n",
       "      <td>Half-life: opposing force</td>\n",
       "      <td>FPS</td>\n",
       "      <td>Valve</td>\n",
       "      <td>Single-player</td>\n",
       "      <td>FPS Valve Single-player</td>\n",
       "    </tr>\n",
       "    <tr>\n",
       "      <th>...</th>\n",
       "      <td>...</td>\n",
       "      <td>...</td>\n",
       "      <td>...</td>\n",
       "      <td>...</td>\n",
       "      <td>...</td>\n",
       "      <td>...</td>\n",
       "      <td>...</td>\n",
       "    </tr>\n",
       "    <tr>\n",
       "      <th>3161</th>\n",
       "      <td>521340.0</td>\n",
       "      <td>76561198009992783</td>\n",
       "      <td>True or false</td>\n",
       "      <td>Casual</td>\n",
       "      <td>Vladimir maslov</td>\n",
       "      <td>Single-player</td>\n",
       "      <td>Casual Vladimir maslov Single-player</td>\n",
       "    </tr>\n",
       "    <tr>\n",
       "      <th>3162</th>\n",
       "      <td>521430.0</td>\n",
       "      <td>76561198075141715</td>\n",
       "      <td>Super switch</td>\n",
       "      <td>Indie</td>\n",
       "      <td>Red splat games</td>\n",
       "      <td>Single-player</td>\n",
       "      <td>Indie Red splat games Single-player</td>\n",
       "    </tr>\n",
       "    <tr>\n",
       "      <th>3163</th>\n",
       "      <td>521570.0</td>\n",
       "      <td>TfhuAWGscvg</td>\n",
       "      <td>You have 10 seconds 2</td>\n",
       "      <td>Free to Play</td>\n",
       "      <td>Tamationgames</td>\n",
       "      <td>Single-player</td>\n",
       "      <td>Free to Play Tamationgames Single-player</td>\n",
       "    </tr>\n",
       "    <tr>\n",
       "      <th>3164</th>\n",
       "      <td>521990.0</td>\n",
       "      <td>mikeyg74</td>\n",
       "      <td>Galactic storm</td>\n",
       "      <td>Action</td>\n",
       "      <td>Dawid bujak</td>\n",
       "      <td>Single-player</td>\n",
       "      <td>Action Dawid bujak Single-player</td>\n",
       "    </tr>\n",
       "    <tr>\n",
       "      <th>3165</th>\n",
       "      <td>527340.0</td>\n",
       "      <td>Limo1300</td>\n",
       "      <td>What the box?</td>\n",
       "      <td>Action</td>\n",
       "      <td>Bitten toast games inc.</td>\n",
       "      <td>Online Multi-Player</td>\n",
       "      <td>Action Bitten toast games inc. Online Multi-Pl...</td>\n",
       "    </tr>\n",
       "  </tbody>\n",
       "</table>\n",
       "<p>3166 rows × 7 columns</p>\n",
       "</div>"
      ],
      "text/plain": [
       "            id                 user_id                   app_name  \\\n",
       "0         10.0            Bennysaputra             Counter-strike   \n",
       "1         20.0       76561198039441595      Team fortress classic   \n",
       "2         30.0              agenteagle              Day of defeat   \n",
       "3         40.0                  2ez2xl         Deathmatch classic   \n",
       "4         50.0  pleasedontvotefortrump  Half-life: opposing force   \n",
       "...        ...                     ...                        ...   \n",
       "3161  521340.0       76561198009992783              True or false   \n",
       "3162  521430.0       76561198075141715               Super switch   \n",
       "3163  521570.0             TfhuAWGscvg      You have 10 seconds 2   \n",
       "3164  521990.0                mikeyg74             Galactic storm   \n",
       "3165  527340.0                Limo1300              What the box?   \n",
       "\n",
       "            genres                developer                specs  \\\n",
       "0           Action                    Valve         Multi-player   \n",
       "1           Action                    Valve         Multi-player   \n",
       "2              FPS                    Valve         Multi-player   \n",
       "3           Action                    Valve         Multi-player   \n",
       "4              FPS                    Valve        Single-player   \n",
       "...            ...                      ...                  ...   \n",
       "3161        Casual          Vladimir maslov        Single-player   \n",
       "3162         Indie          Red splat games        Single-player   \n",
       "3163  Free to Play            Tamationgames        Single-player   \n",
       "3164        Action              Dawid bujak        Single-player   \n",
       "3165        Action  Bitten toast games inc.  Online Multi-Player   \n",
       "\n",
       "                                      combined_features  \n",
       "0                             Action Valve Multi-player  \n",
       "1                             Action Valve Multi-player  \n",
       "2                                FPS Valve Multi-player  \n",
       "3                             Action Valve Multi-player  \n",
       "4                               FPS Valve Single-player  \n",
       "...                                                 ...  \n",
       "3161               Casual Vladimir maslov Single-player  \n",
       "3162                Indie Red splat games Single-player  \n",
       "3163           Free to Play Tamationgames Single-player  \n",
       "3164                   Action Dawid bujak Single-player  \n",
       "3165  Action Bitten toast games inc. Online Multi-Pl...  \n",
       "\n",
       "[3166 rows x 7 columns]"
      ]
     },
     "execution_count": 81,
     "metadata": {},
     "output_type": "execute_result"
    }
   ],
   "source": [
    "Modelo2"
   ]
  },
  {
   "cell_type": "code",
   "execution_count": 82,
   "metadata": {},
   "outputs": [],
   "source": [
    "with gzip.open('./Modelo2.csv.gz', 'wb') as f:\n",
    "    Modelo2.to_csv(f, index=False, encoding='utf-8')"
   ]
  },
  {
   "cell_type": "markdown",
   "metadata": {},
   "source": [
    "Si es un sistema de recomendación user-item:\n",
    "\n",
    "def recomendacion_usuario( id de usuario ): Ingresando el id de un usuario, deberíamos recibir una lista con 5 juegos recomendados para dicho usuario."
   ]
  },
  {
   "cell_type": "markdown",
   "metadata": {},
   "source": [
    "Se preparan los datos de la columna 'combined_features' para ser utilizados en un modelo de machine learning al convertirlos en una matriz de recuento de términos"
   ]
  },
  {
   "cell_type": "code",
   "execution_count": 83,
   "metadata": {},
   "outputs": [],
   "source": [
    "CV2 = CountVectorizer()\n",
    "converted_metrix2 = CV2.fit_transform(Modelo2['combined_features'])"
   ]
  },
  {
   "cell_type": "code",
   "execution_count": 84,
   "metadata": {},
   "outputs": [],
   "source": [
    "from sklearn.feature_extraction.text import CountVectorizer\n",
    "from sklearn.metrics.pairwise import cosine_similarity"
   ]
  },
  {
   "cell_type": "code",
   "execution_count": 85,
   "metadata": {},
   "outputs": [],
   "source": [
    "cosine_similarity = cosine_similarity(converted_metrix2)"
   ]
  },
  {
   "cell_type": "code",
   "execution_count": 88,
   "metadata": {},
   "outputs": [
    {
     "data": {
      "text/plain": [
       "['Modelo2.pkl']"
      ]
     },
     "execution_count": 88,
     "metadata": {},
     "output_type": "execute_result"
    }
   ],
   "source": [
    "import joblib #Se guarda la matriz\n",
    "\n",
    "joblib.dump(cosine_similarity, 'Modelo2.pkl', compress=1)"
   ]
  },
  {
   "cell_type": "code",
   "execution_count": 89,
   "metadata": {},
   "outputs": [],
   "source": [
    "import joblib\n",
    "with open('Modelo2.pkl', 'rb') as file:\n",
    "        modelo2 = joblib.load(file)\n"
   ]
  },
  {
   "cell_type": "code",
   "execution_count": 91,
   "metadata": {},
   "outputs": [],
   "source": [
    "def recomendacion4(user_id):\n",
    "    #Cargar el modelo entrenado desde el archivo pickle\n",
    "    with open('Modelo1.pkl', 'rb') as file:\n",
    "       modelo2 = joblib.load(file)\n",
    "\n",
    "    Modelo2 = pd.read_csv('./Modelo2.csv.gz', compression='gzip')\n",
    "    \n",
    "    if user_id not in Modelo2['user_id'].tolist():\n",
    "       return {\"Respuesta\": \"No se encontraron resultados para la búsqueda realizada\"}\n",
    "\n",
    "    def get_recommendations_by_user(user_id, cosine_sim=modelo2):\n",
    "    # Obtener los juegos jugados por el usuario\n",
    "        games_played = Modelo2[Modelo2['user_id'] == user_id]['app_name'].tolist()\n",
    "\n",
    "        # Inicializar la lista de juegos recomendados\n",
    "        recommended_games = []\n",
    "\n",
    "        # Iterar sobre los juegos jugados por el usuario\n",
    "        for app_name in games_played:\n",
    "            # Obtener el índice del juego actual\n",
    "            idx = Modelo2[Modelo2['app_name'] == app_name].index[0]\n",
    "\n",
    "            # Obtener los puntajes de similitud para el juego actual\n",
    "            sim_scores = list(enumerate(cosine_sim[idx]))\n",
    "\n",
    "            # Ordenar los juegos por similitud\n",
    "            sim_scores = sorted(sim_scores, key=lambda x: x[1], reverse=True)\n",
    "\n",
    "            # Seleccionar los juegos más similares (excluyendo el juego actual)\n",
    "            sim_scores = sim_scores[1:6]\n",
    "\n",
    "            # Obtener los índices de los juegos recomendados\n",
    "            game_indices = [i[0] for i in sim_scores]\n",
    "\n",
    "            # Agregar los juegos recomendados a la lista\n",
    "            recommended_games.extend(Modelo2['app_name'].iloc[game_indices])\n",
    "\n",
    "         # Eliminar duplicados y devolver los primeros 5 juegos únicos recomendados\n",
    "        return list(set(recommended_games))[:5]\n",
    "  \n",
    "    recommendations2 = get_recommendations_by_user(user_id)\n",
    "    return {\"Recomendaciones\": recommendations2}\n",
    "\n",
    "    "
   ]
  },
  {
   "cell_type": "code",
   "execution_count": 92,
   "metadata": {},
   "outputs": [
    {
     "data": {
      "text/plain": [
       "{'Recomendaciones': [\"Macguffin's curse\",\n",
       "  'Call of duty®: black ops ii - apocalypse',\n",
       "  'The howler',\n",
       "  'Defy gravity extended',\n",
       "  'X-com: interceptor']}"
      ]
     },
     "execution_count": 92,
     "metadata": {},
     "output_type": "execute_result"
    }
   ],
   "source": [
    "recomendacion4('Bennysaputra')"
   ]
  }
 ],
 "metadata": {
  "kernelspec": {
   "display_name": "Python 3",
   "language": "python",
   "name": "python3"
  },
  "language_info": {
   "codemirror_mode": {
    "name": "ipython",
    "version": 3
   },
   "file_extension": ".py",
   "mimetype": "text/x-python",
   "name": "python",
   "nbconvert_exporter": "python",
   "pygments_lexer": "ipython3",
   "version": "3.11.1"
  }
 },
 "nbformat": 4,
 "nbformat_minor": 2
}
