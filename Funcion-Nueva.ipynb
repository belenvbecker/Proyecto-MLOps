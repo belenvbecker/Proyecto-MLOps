{
 "cells": [
  {
   "cell_type": "code",
   "execution_count": 6,
   "metadata": {},
   "outputs": [],
   "source": [
    "import pandas as pd\n",
    "import pyarrow.parquet as pq\n",
    "import gzip"
   ]
  },
  {
   "cell_type": "code",
   "execution_count": 2,
   "metadata": {},
   "outputs": [],
   "source": [
    "steam1 = pd.read_csv('./Data\\Data-Limpia\\steam_games_limpio.csv')\n",
    "\n",
    "items = pd.read_csv('./Data/Data-Limpia/user_items_limpio.csv')\n",
    "\n",
    "steam1 = steam1[['genres','id','año']]\n",
    "items = items[['user_id','item_id','playtime_forever']]"
   ]
  },
  {
   "cell_type": "code",
   "execution_count": 3,
   "metadata": {},
   "outputs": [],
   "source": [
    "steam1 = steam1.groupby('id').first().reset_index()\n",
    "\n",
    "steam1 = steam1[steam1['año']!=0]\n",
    "\n",
    "resultado = steam1.merge(items, left_on='id', right_on='item_id', how='inner')\n"
   ]
  },
  {
   "cell_type": "code",
   "execution_count": 4,
   "metadata": {},
   "outputs": [
    {
     "data": {
      "text/html": [
       "<div>\n",
       "<style scoped>\n",
       "    .dataframe tbody tr th:only-of-type {\n",
       "        vertical-align: middle;\n",
       "    }\n",
       "\n",
       "    .dataframe tbody tr th {\n",
       "        vertical-align: top;\n",
       "    }\n",
       "\n",
       "    .dataframe thead th {\n",
       "        text-align: right;\n",
       "    }\n",
       "</style>\n",
       "<table border=\"1\" class=\"dataframe\">\n",
       "  <thead>\n",
       "    <tr style=\"text-align: right;\">\n",
       "      <th></th>\n",
       "      <th>id</th>\n",
       "      <th>genres</th>\n",
       "      <th>año</th>\n",
       "      <th>user_id</th>\n",
       "      <th>item_id</th>\n",
       "      <th>playtime_forever</th>\n",
       "    </tr>\n",
       "  </thead>\n",
       "  <tbody>\n",
       "    <tr>\n",
       "      <th>0</th>\n",
       "      <td>10.0</td>\n",
       "      <td>['Action', 'FPS', 'Multiplayer', 'Shooter', 'C...</td>\n",
       "      <td>2000</td>\n",
       "      <td>76561197970982479</td>\n",
       "      <td>10.0</td>\n",
       "      <td>0.10</td>\n",
       "    </tr>\n",
       "    <tr>\n",
       "      <th>1</th>\n",
       "      <td>10.0</td>\n",
       "      <td>['Action', 'FPS', 'Multiplayer', 'Shooter', 'C...</td>\n",
       "      <td>2000</td>\n",
       "      <td>js41637</td>\n",
       "      <td>10.0</td>\n",
       "      <td>0.00</td>\n",
       "    </tr>\n",
       "    <tr>\n",
       "      <th>2</th>\n",
       "      <td>10.0</td>\n",
       "      <td>['Action', 'FPS', 'Multiplayer', 'Shooter', 'C...</td>\n",
       "      <td>2000</td>\n",
       "      <td>Riot-Punch</td>\n",
       "      <td>10.0</td>\n",
       "      <td>0.00</td>\n",
       "    </tr>\n",
       "    <tr>\n",
       "      <th>3</th>\n",
       "      <td>10.0</td>\n",
       "      <td>['Action', 'FPS', 'Multiplayer', 'Shooter', 'C...</td>\n",
       "      <td>2000</td>\n",
       "      <td>doctr</td>\n",
       "      <td>10.0</td>\n",
       "      <td>1.55</td>\n",
       "    </tr>\n",
       "    <tr>\n",
       "      <th>4</th>\n",
       "      <td>10.0</td>\n",
       "      <td>['Action', 'FPS', 'Multiplayer', 'Shooter', 'C...</td>\n",
       "      <td>2000</td>\n",
       "      <td>corrupted_soul</td>\n",
       "      <td>10.0</td>\n",
       "      <td>1.80</td>\n",
       "    </tr>\n",
       "  </tbody>\n",
       "</table>\n",
       "</div>"
      ],
      "text/plain": [
       "     id                                             genres   año  \\\n",
       "0  10.0  ['Action', 'FPS', 'Multiplayer', 'Shooter', 'C...  2000   \n",
       "1  10.0  ['Action', 'FPS', 'Multiplayer', 'Shooter', 'C...  2000   \n",
       "2  10.0  ['Action', 'FPS', 'Multiplayer', 'Shooter', 'C...  2000   \n",
       "3  10.0  ['Action', 'FPS', 'Multiplayer', 'Shooter', 'C...  2000   \n",
       "4  10.0  ['Action', 'FPS', 'Multiplayer', 'Shooter', 'C...  2000   \n",
       "\n",
       "             user_id  item_id  playtime_forever  \n",
       "0  76561197970982479     10.0              0.10  \n",
       "1            js41637     10.0              0.00  \n",
       "2         Riot-Punch     10.0              0.00  \n",
       "3              doctr     10.0              1.55  \n",
       "4     corrupted_soul     10.0              1.80  "
      ]
     },
     "execution_count": 4,
     "metadata": {},
     "output_type": "execute_result"
    }
   ],
   "source": [
    "resultado.head()"
   ]
  },
  {
   "cell_type": "code",
   "execution_count": 5,
   "metadata": {},
   "outputs": [],
   "source": [
    "resultado['playtime_forever'] = resultado['playtime_forever'].astype(int)"
   ]
  },
  {
   "cell_type": "code",
   "execution_count": 7,
   "metadata": {},
   "outputs": [],
   "source": [
    "with gzip.open('./Data/Data-Funciones/F_user_genre.csv.gz', 'wb') as f:\n",
    "    resultado.to_csv(f, index=False, encoding='utf-8')"
   ]
  },
  {
   "cell_type": "code",
   "execution_count": 7,
   "metadata": {},
   "outputs": [],
   "source": [
    "resultado.to_parquet('df-userforgenre.parquet')"
   ]
  },
  {
   "cell_type": "code",
   "execution_count": 8,
   "metadata": {},
   "outputs": [],
   "source": [
    "def UserForGenre(genero):\n",
    "    #df = pd.read_parquet('df-userforgenre.parquet')\n",
    "    df = pd.read_csv('./Data/Data-Funciones/F_user_genre.csv.gz', compression='gzip')\n",
    "\n",
    "    df_genero= df.groupby(['user_id', 'año']).sum().reset_index()\n",
    "\n",
    "    df_genero = df_genero[df_genero['genres'].str.contains(genero)]\n",
    "\n",
    "    # Encontrar al usuario con la máxima cantidad de playtime\n",
    "    usuario_max_playtime = df_genero.loc[df_genero['playtime_forever'].idxmax()]['user_id']\n",
    "\n",
    "    # Filtrar el DataFrame original por usuario y género\n",
    "    df_usuario_genero = df[(df['user_id'] == usuario_max_playtime)]\n",
    "    # Agrupar por año y sumar el tiempo de juego\n",
    "    poranio = df_usuario_genero.groupby('año')['playtime_forever'].sum().to_dict()\n",
    "\n",
    "    # Crear un diccionario con la información\n",
    "    dicc = {\n",
    "        'usuario': usuario_max_playtime,\n",
    "        'años': poranio\n",
    "    }\n",
    "\n",
    "    return dicc"
   ]
  },
  {
   "cell_type": "code",
   "execution_count": 9,
   "metadata": {},
   "outputs": [
    {
     "data": {
      "text/plain": [
       "{'usuario': 'REBAS_AS_F-T',\n",
       " 'años': {1996: 0,\n",
       "  1998: 0,\n",
       "  1999: 3,\n",
       "  2000: 0,\n",
       "  2001: 0,\n",
       "  2002: 0,\n",
       "  2003: 31,\n",
       "  2004: 150,\n",
       "  2005: 54,\n",
       "  2006: 28,\n",
       "  2007: 169,\n",
       "  2008: 81,\n",
       "  2009: 1014,\n",
       "  2010: 1199,\n",
       "  2011: 3104,\n",
       "  2012: 4421,\n",
       "  2013: 6741,\n",
       "  2014: 7951,\n",
       "  2015: 17810,\n",
       "  2016: 22117,\n",
       "  2017: 579}}"
      ]
     },
     "execution_count": 9,
     "metadata": {},
     "output_type": "execute_result"
    }
   ],
   "source": [
    "UserForGenre('Action')"
   ]
  }
 ],
 "metadata": {
  "kernelspec": {
   "display_name": "Python 3",
   "language": "python",
   "name": "python3"
  },
  "language_info": {
   "codemirror_mode": {
    "name": "ipython",
    "version": 3
   },
   "file_extension": ".py",
   "mimetype": "text/x-python",
   "name": "python",
   "nbconvert_exporter": "python",
   "pygments_lexer": "ipython3",
   "version": "3.11.1"
  }
 },
 "nbformat": 4,
 "nbformat_minor": 2
}
